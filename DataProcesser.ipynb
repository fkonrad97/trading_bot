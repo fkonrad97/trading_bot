{
 "metadata": {
  "language_info": {
   "codemirror_mode": {
    "name": "ipython",
    "version": 3
   },
   "file_extension": ".py",
   "mimetype": "text/x-python",
   "name": "python",
   "nbconvert_exporter": "python",
   "pygments_lexer": "ipython3",
   "version": "3.8.5-final"
  },
  "orig_nbformat": 2,
  "kernelspec": {
   "name": "python3",
   "display_name": "Python 3"
  }
 },
 "nbformat": 4,
 "nbformat_minor": 2,
 "cells": [
  {
   "cell_type": "code",
   "execution_count": 16,
   "metadata": {},
   "outputs": [],
   "source": [
    "import pandas as pd\n",
    "import numpy as np\n",
    "from variables import *"
   ]
  },
  {
   "cell_type": "code",
   "execution_count": 17,
   "metadata": {},
   "outputs": [
    {
     "output_type": "execute_result",
     "data": {
      "text/plain": [
       "                       Open   Close\n",
       "Date                               \n",
       "2017-05-08 00:00:00  1555.1  1593.3\n",
       "2017-05-08 01:00:00  1593.3  1593.4\n",
       "2017-05-08 02:00:00  1594.2  1594.8\n",
       "2017-05-08 09:00:00  1620.3  1606.2\n",
       "2017-05-08 10:00:00  1608.1  1610.0\n",
       "...                     ...     ...\n",
       "2018-12-31 20:00:00  3631.6  3618.3\n",
       "2018-12-31 21:00:00  3618.1  3613.0\n",
       "2018-12-31 22:00:00  3612.8  3612.0\n",
       "2019-01-01 22:00:00  3658.6  3658.0\n",
       "2019-01-01 23:00:00  3658.1  3762.8\n",
       "\n",
       "[9971 rows x 2 columns]"
      ],
      "text/html": "<div>\n<style scoped>\n    .dataframe tbody tr th:only-of-type {\n        vertical-align: middle;\n    }\n\n    .dataframe tbody tr th {\n        vertical-align: top;\n    }\n\n    .dataframe thead th {\n        text-align: right;\n    }\n</style>\n<table border=\"1\" class=\"dataframe\">\n  <thead>\n    <tr style=\"text-align: right;\">\n      <th></th>\n      <th>Open</th>\n      <th>Close</th>\n    </tr>\n    <tr>\n      <th>Date</th>\n      <th></th>\n      <th></th>\n    </tr>\n  </thead>\n  <tbody>\n    <tr>\n      <th>2017-05-08 00:00:00</th>\n      <td>1555.1</td>\n      <td>1593.3</td>\n    </tr>\n    <tr>\n      <th>2017-05-08 01:00:00</th>\n      <td>1593.3</td>\n      <td>1593.4</td>\n    </tr>\n    <tr>\n      <th>2017-05-08 02:00:00</th>\n      <td>1594.2</td>\n      <td>1594.8</td>\n    </tr>\n    <tr>\n      <th>2017-05-08 09:00:00</th>\n      <td>1620.3</td>\n      <td>1606.2</td>\n    </tr>\n    <tr>\n      <th>2017-05-08 10:00:00</th>\n      <td>1608.1</td>\n      <td>1610.0</td>\n    </tr>\n    <tr>\n      <th>...</th>\n      <td>...</td>\n      <td>...</td>\n    </tr>\n    <tr>\n      <th>2018-12-31 20:00:00</th>\n      <td>3631.6</td>\n      <td>3618.3</td>\n    </tr>\n    <tr>\n      <th>2018-12-31 21:00:00</th>\n      <td>3618.1</td>\n      <td>3613.0</td>\n    </tr>\n    <tr>\n      <th>2018-12-31 22:00:00</th>\n      <td>3612.8</td>\n      <td>3612.0</td>\n    </tr>\n    <tr>\n      <th>2019-01-01 22:00:00</th>\n      <td>3658.6</td>\n      <td>3658.0</td>\n    </tr>\n    <tr>\n      <th>2019-01-01 23:00:00</th>\n      <td>3658.1</td>\n      <td>3762.8</td>\n    </tr>\n  </tbody>\n</table>\n<p>9971 rows × 2 columns</p>\n</div>"
     },
     "metadata": {},
     "execution_count": 17
    }
   ],
   "source": [
    "df_csv = pd.read_csv(full_time_series_path, usecols=['Date','Open','Close'], \n",
    "    index_col=['Date'], parse_dates=['Date'])\n",
    "df = df_csv[df_csv.index >= pd.to_datetime(start_date)]\n",
    "df"
   ]
  },
  {
   "cell_type": "code",
   "execution_count": 18,
   "metadata": {},
   "outputs": [],
   "source": [
    "df[\"OCAvg\"] = df['Open'].add(df['Close']).div(2)\n",
    "del df['Open']\n",
    "del df['Close']"
   ]
  },
  {
   "cell_type": "code",
   "execution_count": 19,
   "metadata": {},
   "outputs": [],
   "source": [
    "# Simple Moving Average\n",
    "df['MA'] = df['OCAvg'].rolling(window=ma_periods).mean()"
   ]
  },
  {
   "cell_type": "code",
   "execution_count": 20,
   "metadata": {},
   "outputs": [
    {
     "output_type": "execute_result",
     "data": {
      "text/plain": [
       "                       OCAvg           MA   Returns\n",
       "Date                                               \n",
       "2017-05-08 00:00:00  1574.20          NaN       NaN\n",
       "2017-05-08 01:00:00  1593.35          NaN       NaN\n",
       "2017-05-08 02:00:00  1594.50          NaN       NaN\n",
       "2017-05-08 09:00:00  1613.25          NaN       NaN\n",
       "2017-05-08 10:00:00  1609.05          NaN       NaN\n",
       "2017-05-08 11:00:00  1604.25          NaN       NaN\n",
       "2017-05-08 13:00:00  1602.65          NaN       NaN\n",
       "2017-05-08 14:00:00  1599.65          NaN       NaN\n",
       "2017-05-08 15:00:00  1602.75          NaN       NaN\n",
       "2017-05-08 16:00:00  1611.65          NaN       NaN\n",
       "2017-05-08 17:00:00  1616.45          NaN       NaN\n",
       "2017-05-08 18:00:00  1621.95          NaN       NaN\n",
       "2017-05-08 19:00:00  1617.95          NaN       NaN\n",
       "2017-05-08 20:00:00  1635.30  1606.925000       NaN\n",
       "2017-05-08 21:00:00  1644.45  1611.942857  0.003118"
      ],
      "text/html": "<div>\n<style scoped>\n    .dataframe tbody tr th:only-of-type {\n        vertical-align: middle;\n    }\n\n    .dataframe tbody tr th {\n        vertical-align: top;\n    }\n\n    .dataframe thead th {\n        text-align: right;\n    }\n</style>\n<table border=\"1\" class=\"dataframe\">\n  <thead>\n    <tr style=\"text-align: right;\">\n      <th></th>\n      <th>OCAvg</th>\n      <th>MA</th>\n      <th>Returns</th>\n    </tr>\n    <tr>\n      <th>Date</th>\n      <th></th>\n      <th></th>\n      <th></th>\n    </tr>\n  </thead>\n  <tbody>\n    <tr>\n      <th>2017-05-08 00:00:00</th>\n      <td>1574.20</td>\n      <td>NaN</td>\n      <td>NaN</td>\n    </tr>\n    <tr>\n      <th>2017-05-08 01:00:00</th>\n      <td>1593.35</td>\n      <td>NaN</td>\n      <td>NaN</td>\n    </tr>\n    <tr>\n      <th>2017-05-08 02:00:00</th>\n      <td>1594.50</td>\n      <td>NaN</td>\n      <td>NaN</td>\n    </tr>\n    <tr>\n      <th>2017-05-08 09:00:00</th>\n      <td>1613.25</td>\n      <td>NaN</td>\n      <td>NaN</td>\n    </tr>\n    <tr>\n      <th>2017-05-08 10:00:00</th>\n      <td>1609.05</td>\n      <td>NaN</td>\n      <td>NaN</td>\n    </tr>\n    <tr>\n      <th>2017-05-08 11:00:00</th>\n      <td>1604.25</td>\n      <td>NaN</td>\n      <td>NaN</td>\n    </tr>\n    <tr>\n      <th>2017-05-08 13:00:00</th>\n      <td>1602.65</td>\n      <td>NaN</td>\n      <td>NaN</td>\n    </tr>\n    <tr>\n      <th>2017-05-08 14:00:00</th>\n      <td>1599.65</td>\n      <td>NaN</td>\n      <td>NaN</td>\n    </tr>\n    <tr>\n      <th>2017-05-08 15:00:00</th>\n      <td>1602.75</td>\n      <td>NaN</td>\n      <td>NaN</td>\n    </tr>\n    <tr>\n      <th>2017-05-08 16:00:00</th>\n      <td>1611.65</td>\n      <td>NaN</td>\n      <td>NaN</td>\n    </tr>\n    <tr>\n      <th>2017-05-08 17:00:00</th>\n      <td>1616.45</td>\n      <td>NaN</td>\n      <td>NaN</td>\n    </tr>\n    <tr>\n      <th>2017-05-08 18:00:00</th>\n      <td>1621.95</td>\n      <td>NaN</td>\n      <td>NaN</td>\n    </tr>\n    <tr>\n      <th>2017-05-08 19:00:00</th>\n      <td>1617.95</td>\n      <td>NaN</td>\n      <td>NaN</td>\n    </tr>\n    <tr>\n      <th>2017-05-08 20:00:00</th>\n      <td>1635.30</td>\n      <td>1606.925000</td>\n      <td>NaN</td>\n    </tr>\n    <tr>\n      <th>2017-05-08 21:00:00</th>\n      <td>1644.45</td>\n      <td>1611.942857</td>\n      <td>0.003118</td>\n    </tr>\n  </tbody>\n</table>\n</div>"
     },
     "metadata": {},
     "execution_count": 20
    }
   ],
   "source": [
    "# Log Returns\n",
    "df['Returns'] = np.log(df['MA']/df['MA'].shift(1))\n",
    "df.head(15)"
   ]
  },
  {
   "cell_type": "code",
   "execution_count": 21,
   "metadata": {},
   "outputs": [
    {
     "output_type": "execute_result",
     "data": {
      "text/plain": [
       "                       OCAvg           MA   Returns\n",
       "Date                                               \n",
       "2017-05-09 04:00:00  1684.85  1635.482143  0.003526\n",
       "2017-05-09 05:00:00  1693.20  1641.950000  0.003947\n",
       "2017-05-09 08:00:00  1718.20  1650.417857  0.005144\n",
       "2017-05-09 09:00:00  1728.45  1659.396429  0.005425\n",
       "2017-05-09 10:00:00  1724.80  1667.478571  0.004859\n",
       "...                      ...          ...       ...\n",
       "2018-12-31 20:00:00  3624.95  3700.360714 -0.001889\n",
       "2018-12-31 21:00:00  3615.55  3692.625000 -0.002093\n",
       "2018-12-31 22:00:00  3612.40  3684.835714 -0.002112\n",
       "2019-01-01 22:00:00  3658.30  3679.732143 -0.001386\n",
       "2019-01-01 23:00:00  3710.45  3677.728571 -0.000545\n",
       "\n",
       "[9952 rows x 3 columns]"
      ],
      "text/html": "<div>\n<style scoped>\n    .dataframe tbody tr th:only-of-type {\n        vertical-align: middle;\n    }\n\n    .dataframe tbody tr th {\n        vertical-align: top;\n    }\n\n    .dataframe thead th {\n        text-align: right;\n    }\n</style>\n<table border=\"1\" class=\"dataframe\">\n  <thead>\n    <tr style=\"text-align: right;\">\n      <th></th>\n      <th>OCAvg</th>\n      <th>MA</th>\n      <th>Returns</th>\n    </tr>\n    <tr>\n      <th>Date</th>\n      <th></th>\n      <th></th>\n      <th></th>\n    </tr>\n  </thead>\n  <tbody>\n    <tr>\n      <th>2017-05-09 04:00:00</th>\n      <td>1684.85</td>\n      <td>1635.482143</td>\n      <td>0.003526</td>\n    </tr>\n    <tr>\n      <th>2017-05-09 05:00:00</th>\n      <td>1693.20</td>\n      <td>1641.950000</td>\n      <td>0.003947</td>\n    </tr>\n    <tr>\n      <th>2017-05-09 08:00:00</th>\n      <td>1718.20</td>\n      <td>1650.417857</td>\n      <td>0.005144</td>\n    </tr>\n    <tr>\n      <th>2017-05-09 09:00:00</th>\n      <td>1728.45</td>\n      <td>1659.396429</td>\n      <td>0.005425</td>\n    </tr>\n    <tr>\n      <th>2017-05-09 10:00:00</th>\n      <td>1724.80</td>\n      <td>1667.478571</td>\n      <td>0.004859</td>\n    </tr>\n    <tr>\n      <th>...</th>\n      <td>...</td>\n      <td>...</td>\n      <td>...</td>\n    </tr>\n    <tr>\n      <th>2018-12-31 20:00:00</th>\n      <td>3624.95</td>\n      <td>3700.360714</td>\n      <td>-0.001889</td>\n    </tr>\n    <tr>\n      <th>2018-12-31 21:00:00</th>\n      <td>3615.55</td>\n      <td>3692.625000</td>\n      <td>-0.002093</td>\n    </tr>\n    <tr>\n      <th>2018-12-31 22:00:00</th>\n      <td>3612.40</td>\n      <td>3684.835714</td>\n      <td>-0.002112</td>\n    </tr>\n    <tr>\n      <th>2019-01-01 22:00:00</th>\n      <td>3658.30</td>\n      <td>3679.732143</td>\n      <td>-0.001386</td>\n    </tr>\n    <tr>\n      <th>2019-01-01 23:00:00</th>\n      <td>3710.45</td>\n      <td>3677.728571</td>\n      <td>-0.000545</td>\n    </tr>\n  </tbody>\n</table>\n<p>9952 rows × 3 columns</p>\n</div>"
     },
     "metadata": {},
     "execution_count": 21
    }
   ],
   "source": [
    "df.dropna(how='any', inplace=True)\n",
    "df = df[df.shape[0] % batch_size:]\n",
    "df"
   ]
  },
  {
   "cell_type": "code",
   "execution_count": 22,
   "metadata": {},
   "outputs": [
    {
     "output_type": "stream",
     "name": "stdout",
     "text": [
      "df_train.shape (6976, 3), df_validation.shape (2976, 3)\n"
     ]
    }
   ],
   "source": [
    "# 1216 - \n",
    "# df_train = df[:- validation_size - test_size]\n",
    "# df_validation = df[- validation_size - test_size:]\n",
    "df_train = df[:- validation_size]\n",
    "df_validation = df[6976:]\n",
    "# df_test = df[- validation_size - test_size:]\n",
    "print(f'df_train.shape {df_train.shape}, df_validation.shape {df_validation.shape}') #, df_test.shape {df_test.shape}')"
   ]
  },
  {
   "cell_type": "code",
   "execution_count": 23,
   "metadata": {},
   "outputs": [],
   "source": [
    "df_train.to_csv(train_time_series_path)\n",
    "df_validation.to_csv(validate_time_series_path)\n",
    "# df_test.to_csv(test_time_series_path)"
   ]
  }
 ]
}